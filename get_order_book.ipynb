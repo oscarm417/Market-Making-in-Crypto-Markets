{
 "cells": [
  {
   "cell_type": "code",
   "execution_count": 12,
   "metadata": {},
   "outputs": [],
   "source": [
    "import pandas as pd \n",
    "import numpy as np \n",
    "import ccxt \n",
    "import time\n",
    "config = open(\"config.txt\",\"r\")\n",
    "id, secret = open(\"config.txt\",\"r\").readlines()[0].replace(\"'\",\"\").split(\",\")\n",
    "config.close()"
   ]
  },
  {
   "cell_type": "code",
   "execution_count": 106,
   "metadata": {},
   "outputs": [],
   "source": [
    "class Orderbook():\n",
    "    def __init__(self,id,secret):\n",
    "        self.phemex = ccxt.phemex({\n",
    "        'enableRateLimit':True,\n",
    "        'apiKey': id,\n",
    "        'secret':secret})\n",
    "\n",
    "    def get_orderbook_snapshot(self, symbol: str):\n",
    "        ob = self.phemex.fetch_order_book(symbol)\n",
    "        return ob \n",
    "    def get_ob_for_x_seconds(self, symbol:str, time_lapse: float):\n",
    "        start = time.time()\n",
    "        end =  time.time()\n",
    "        order_book_requests = []\n",
    "        while end - start < time_lapse:\n",
    "            data = self.get_orderbook_snapshot(symbol)\n",
    "            order_book_requests.append(data)\n",
    "            end =  time.time()\n",
    "        return order_book_requests\n",
    "    def format_request_stream(self,ob_data):\n",
    "        df = pd.DataFrame(ob_data)\n",
    "        df[['bid','bid-size']] = df['bids'].apply(lambda x: x[0]).tolist()\n",
    "        df[['ask','ask-size']] = df['asks'].apply(lambda x: x[0]).tolist()\n",
    "        df['timestamp'] = pd.to_datetime(df['timestamp'], unit = 'ms')\n",
    "        df['datetime'] = pd.to_datetime(df['datetime'], infer_datetime_format= True)\n",
    "        df['datetime'].dt.tz_convert(\"US/Eastern\")\n",
    "        df = df[['symbol','datetime','nonce','bid','bid-size','ask','ask-size']]\n",
    "        df = df.drop_duplicates(subset=[\"nonce\"],keep= \"first\")\n",
    "\n",
    "        return df\n",
    "    \n",
    "    def get_level_two_ob(self,symbol:str,time_lapse: float )->pd.DataFrame:\n",
    "        data = self.get_ob_for_x_seconds(symbol,time_lapse)\n",
    "        data = self.format_request_stream(data)\n",
    "        return data \n",
    "    \n",
    "        \n",
    "\n",
    "ob = Orderbook(id,secret)"
   ]
  },
  {
   "cell_type": "code",
   "execution_count": 121,
   "metadata": {},
   "outputs": [],
   "source": [
    "data = ob.get_level_two_ob('ETH/USDT',60)\n",
    "data['datetime'] = data['datetime'].dt.tz_localize(None)"
   ]
  },
  {
   "cell_type": "code",
   "execution_count": 128,
   "metadata": {},
   "outputs": [],
   "source": [
    "data.to_excel(\"order_book_data.xlsx\",index = False)"
   ]
  },
  {
   "cell_type": "code",
   "execution_count": null,
   "metadata": {},
   "outputs": [],
   "source": []
  },
  {
   "cell_type": "code",
   "execution_count": 129,
   "metadata": {},
   "outputs": [],
   "source": []
  },
  {
   "cell_type": "code",
   "execution_count": null,
   "metadata": {},
   "outputs": [],
   "source": []
  },
  {
   "cell_type": "code",
   "execution_count": null,
   "metadata": {},
   "outputs": [],
   "source": []
  },
  {
   "cell_type": "code",
   "execution_count": null,
   "metadata": {},
   "outputs": [],
   "source": []
  }
 ],
 "metadata": {
  "kernelspec": {
   "display_name": "Python 3.8.11 ('master')",
   "language": "python",
   "name": "python3"
  },
  "language_info": {
   "codemirror_mode": {
    "name": "ipython",
    "version": 3
   },
   "file_extension": ".py",
   "mimetype": "text/x-python",
   "name": "python",
   "nbconvert_exporter": "python",
   "pygments_lexer": "ipython3",
   "version": "3.8.11"
  },
  "orig_nbformat": 4,
  "vscode": {
   "interpreter": {
    "hash": "1916c2951b7d8dd2fcd4da114e9e1cb618c233012d48d93c3e66f00335cabeb4"
   }
  }
 },
 "nbformat": 4,
 "nbformat_minor": 2
}
