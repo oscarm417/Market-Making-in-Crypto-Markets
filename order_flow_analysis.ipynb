{
 "cells": [
  {
   "cell_type": "code",
   "execution_count": null,
   "metadata": {},
   "outputs": [],
   "source": [
    "import pandas as pd \n",
    "import numpy as np "
   ]
  },
  {
   "cell_type": "markdown",
   "metadata": {},
   "source": [
    "# OrderFlow imbalance (OFI) vs Trade Flow Imbalance (TFI)<br>\n",
    "## These measures determine the supply and demand on the orderbook<br>\n",
    "-  OFI: Measures any changes on the order book<br>\n",
    "        en = changes in supply/demand \n",
    "        en = \n"
   ]
  },
  {
   "cell_type": "code",
   "execution_count": null,
   "metadata": {},
   "outputs": [],
   "source": []
  }
 ],
 "metadata": {
  "kernelspec": {
   "display_name": "Python 3.8.10 64-bit (microsoft store)",
   "language": "python",
   "name": "python3"
  },
  "language_info": {
   "name": "python",
   "version": "3.8.10"
  },
  "orig_nbformat": 4,
  "vscode": {
   "interpreter": {
    "hash": "05a015976652a52678728b3c212ceff0b2ce5cc30870596ca7ec6ca898163c0d"
   }
  }
 },
 "nbformat": 4,
 "nbformat_minor": 2
}
