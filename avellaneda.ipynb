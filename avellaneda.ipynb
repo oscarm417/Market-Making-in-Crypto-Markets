{
 "cells": [
  {
   "cell_type": "code",
   "execution_count": 1,
   "metadata": {},
   "outputs": [],
   "source": [
    "import pandas as pd \n",
    "import numpy as np \n",
    "df = pd.read_excel(\"order_book_data.xlsx\")"
   ]
  },
  {
   "cell_type": "markdown",
   "metadata": {},
   "source": [
    "# Extensions for Crypto \n",
    "___\n",
    "* Avellaneda is defined on the following assumptions: \n",
    "    * Order amount is not defined \n",
    "    * Vol is constant \n",
    "    * Order book statistical characterization is constant \n",
    "    * Market Maker intends to maximize profit using invetory q during a limied T time horiozn \n",
    "* Exentions \n",
    "    * include order_amount_shape_factor, which adjusts order amount given inventory position\n",
    "    * volatility diff theshold, which surpassed will trigger recalculation of the strategy parameters vol_to_spread_multiplier \n",
    "    * Finite closing_time (T)\n",
    "    \n",
    "# Avellanda breakdown \n",
    "_____\n"
   ]
  },
  {
   "cell_type": "code",
   "execution_count": null,
   "metadata": {},
   "outputs": [],
   "source": [
    "class Avellaneda:\n",
    "    def __init__(self):\n",
    "        pass \n",
    "    def reservation_price(self,s, q, gamma,sigma,T,t):\n",
    "        \"\"\" \n",
    "        s: current mide price  (bid+ask)/2 \n",
    "        q: Number of stock in inventory - (Positive, Negative)\n",
    "        gamma: inventory risk aversion parameter - 1/quote_asset \n",
    "        sigma: volatility \n",
    "        T: Number of units at closing time (noramlized to 1)\n",
    "        t: Number of units at current time \n",
    "        ba_spread: bid_ask_spread \n",
    "        kappa: order book liquidity parameter\n",
    "        rp: reservation price\n",
    "        \"\"\"\n",
    "        rp  = s-q*gamma*np.power(sigma,2)*(T-t)\n",
    "    def optimal_spread_around_reserve_price(self,gamma,sigma,T,t,kappa):\n",
    "        \"\"\" \n",
    "        s: current mide price  (bid+ask)/2 \n",
    "        q: Number of stock in inventory - (Positive, Negative)\n",
    "        gamma: inventory risk aversion parameter - 1/quote_asset \n",
    "        sigma: volatility \n",
    "        T: Number of units at closing time (noramlized to 1)\n",
    "        t: Number of units at current time \n",
    "        ba_spread: bid_ask_spread \n",
    "        kappa: order book liquidity parameter (1/quote asset)\n",
    "        rp: reservation price\n",
    "        \"\"\"\n",
    "        optimal_spread = gamma*np.power(sigma,2)*(T-t)+gamma*2*np.log(1+(kappa*gamma))\n",
    "        return optimal_spread \n",
    "    \n",
    "\n",
    "\n",
    "    def order_amount_shape_factor(self):\n",
    "        pass \n",
    "    def vol_to_spread_multiplier(self):\n",
    "        pass\n",
    "\n",
    "\n",
    "\n"
   ]
  },
  {
   "cell_type": "code",
   "execution_count": 2,
   "metadata": {},
   "outputs": [
    {
     "data": {
      "text/plain": [
       "8"
      ]
     },
     "execution_count": 2,
     "metadata": {},
     "output_type": "execute_result"
    }
   ],
   "source": [
    "np.power(2,3)"
   ]
  },
  {
   "cell_type": "code",
   "execution_count": null,
   "metadata": {},
   "outputs": [],
   "source": []
  }
 ],
 "metadata": {
  "kernelspec": {
   "display_name": "Python 3.8.11 ('master')",
   "language": "python",
   "name": "python3"
  },
  "language_info": {
   "codemirror_mode": {
    "name": "ipython",
    "version": 3
   },
   "file_extension": ".py",
   "mimetype": "text/x-python",
   "name": "python",
   "nbconvert_exporter": "python",
   "pygments_lexer": "ipython3",
   "version": "3.8.11"
  },
  "orig_nbformat": 4,
  "vscode": {
   "interpreter": {
    "hash": "1916c2951b7d8dd2fcd4da114e9e1cb618c233012d48d93c3e66f00335cabeb4"
   }
  }
 },
 "nbformat": 4,
 "nbformat_minor": 2
}
