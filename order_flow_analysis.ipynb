{
 "cells": [
  {
   "cell_type": "code",
   "execution_count": 1,
   "metadata": {},
   "outputs": [],
   "source": [
    "import pandas as pd \n",
    "import numpy as np \n",
    "import statsmodels.api as sm \n",
    "from statsmodels.regression.linear_model import OLS \n",
    "# import matplotlib.pyplot as plt \n",
    "\n",
    "df = pd.read_csv(\"IVE_tickbidask.txt\", header = None, names = ['date','time','price','bid','ask','volume'])[:100]\n",
    "#required data: time, bid, bid size, ask, ask size"
   ]
  },
  {
   "cell_type": "code",
   "execution_count": null,
   "metadata": {},
   "outputs": [],
   "source": []
  },
  {
   "cell_type": "code",
   "execution_count": 2,
   "metadata": {},
   "outputs": [],
   "source": [
    "def format_data(df: pd.DataFrame)->pd.DataFrame:\n",
    "    df['datetime'] = df[['date','time']].apply(lambda x: ' '.join(x),axis = 1)\n",
    "    df['datetime'] = pd.to_datetime(df['datetime'],infer_datetime_format = True )\n",
    "    df = df[['datetime','price','bid','ask','volume']]\n",
    "    return df"
   ]
  },
  {
   "cell_type": "code",
   "execution_count": 3,
   "metadata": {},
   "outputs": [],
   "source": [
    "df = format_data(df)"
   ]
  },
  {
   "cell_type": "markdown",
   "metadata": {},
   "source": [
    "# OrderFlow imbalance (OFI) vs Trade Flow Imbalance (TFI)<br>\n",
    "## These measures determine the supply and demand on the orderbook<br>\n",
    "-  OFI: Measures the orders that were executed\n",
    "- TFI: Measures any changes on the order book<br>\n"
   ]
  },
  {
   "cell_type": "markdown",
   "metadata": {},
   "source": [
    "# OrderFlow:"
   ]
  },
  {
   "cell_type": "code",
   "execution_count": 4,
   "metadata": {},
   "outputs": [],
   "source": [
    "def ofi(df:pd.DataFrame)-> pd.DataFrame:\n",
    "    df['mid-price-change'] = ((df['bid'] - df['ask'])/2).diff().div(0.1)\n",
    "    df['prev-bid'] = df['bid'].shift()\n",
    "    df['prev-bid-size'] = df['bid-size'].shift()\n",
    "    df['prev-ask'] = df['ask'].shift()\n",
    "    df['prev-ask-size'] = df['ask-size'].shift()\n",
    "    df.dropna(inplace =True)\n",
    "\n",
    "    bid_geq = df['bid'] >= df['prev-bid']\n",
    "    bid_leq = df['bid'] <= df['prev-bid']\n",
    "    ask_geq = df['ask'] >= df['prev-ask']\n",
    "    ask_leq = df['ask'] <= df['prev-ask']\n",
    "\n",
    "    df['OFI'] = pd.Series(np.zeros(len(df)))\n",
    "    df['OFI'].loc[bid_geq] += df['bid-size'].loc[bid_geq]\n",
    "    df['OFI'].loc[bid_leq] += df['prev-bid-size'].loc[bid_leq]\n",
    "    df['OFI'].loc[ask_geq] += df['prev-ask-size'].loc[ask_geq]\n",
    "    df['OFI'].loc[ask_leq] += df['ask-size'].loc[ask_leq]\n",
    "\n",
    "    df = df[['mid-price change','OFI']].resample().sum().dropna() \n",
    "    return df\n"
   ]
  },
  {
   "cell_type": "code",
   "execution_count": null,
   "metadata": {},
   "outputs": [],
   "source": [
    "def plot_ofi_and_ols_summary(df: pd.DataFrame)->pd.DataFrame:\n",
    "    df.plot(kind='scatter', grid=True, \n",
    "            x='OFI', y='Mid-Price Change', \n",
    "            title = 'OFI'\n",
    "            alpha=0.5, figsize=(12,10))\n",
    "    ofi_ = sm.add_constant(df['OFI'])\n",
    "    ols = OLS(df['mid-price-change'], ofi_).fit()\n",
    "    print(ols.summary2())"
   ]
  },
  {
   "cell_type": "code",
   "execution_count": 5,
   "metadata": {},
   "outputs": [
    {
     "name": "stdout",
     "output_type": "stream",
     "text": [
      "Collecting ccxt\n",
      "  Downloading ccxt-2.2.84-py2.py3-none-any.whl (3.4 MB)\n",
      "Collecting aiodns>=1.1.1\n",
      "  Using cached aiodns-3.0.0-py3-none-any.whl (5.0 kB)\n",
      "Requirement already satisfied: certifi>=2018.1.18 in c:\\users\\oscar\\anaconda3\\envs\\master\\lib\\site-packages (from ccxt) (2021.5.30)\n",
      "Requirement already satisfied: cryptography>=2.6.1 in c:\\users\\oscar\\anaconda3\\envs\\master\\lib\\site-packages (from ccxt) (3.4.7)\n",
      "Requirement already satisfied: yarl>=1.7.2 in c:\\users\\oscar\\anaconda3\\envs\\master\\lib\\site-packages (from ccxt) (1.8.1)\n",
      "Requirement already satisfied: requests>=2.18.4 in c:\\users\\oscar\\anaconda3\\envs\\master\\lib\\site-packages (from ccxt) (2.25.1)\n",
      "Collecting setuptools>=60.9.0\n",
      "  Downloading setuptools-65.6.3-py3-none-any.whl (1.2 MB)\n",
      "Collecting aiohttp>=3.8\n",
      "  Downloading aiohttp-3.8.3-cp38-cp38-win_amd64.whl (324 kB)\n",
      "Collecting pycares>=4.0.0\n",
      "  Downloading pycares-4.2.2-cp38-cp38-win_amd64.whl (75 kB)\n",
      "Requirement already satisfied: multidict<7.0,>=4.5 in c:\\users\\oscar\\anaconda3\\envs\\master\\lib\\site-packages (from aiohttp>=3.8->ccxt) (6.0.2)\n",
      "Collecting frozenlist>=1.1.1\n",
      "  Downloading frozenlist-1.3.3-cp38-cp38-win_amd64.whl (34 kB)\n",
      "Collecting aiosignal>=1.1.2\n",
      "  Downloading aiosignal-1.3.1-py3-none-any.whl (7.6 kB)\n",
      "Collecting async-timeout<5.0,>=4.0.0a3\n",
      "  Downloading async_timeout-4.0.2-py3-none-any.whl (5.8 kB)\n",
      "Collecting charset-normalizer<3.0,>=2.0\n",
      "  Downloading charset_normalizer-2.1.1-py3-none-any.whl (39 kB)\n",
      "Requirement already satisfied: attrs>=17.3.0 in c:\\users\\oscar\\anaconda3\\envs\\master\\lib\\site-packages (from aiohttp>=3.8->ccxt) (21.2.0)\n",
      "Requirement already satisfied: cffi>=1.12 in c:\\users\\oscar\\anaconda3\\envs\\master\\lib\\site-packages (from cryptography>=2.6.1->ccxt) (1.14.6)\n",
      "Requirement already satisfied: pycparser in c:\\users\\oscar\\anaconda3\\envs\\master\\lib\\site-packages (from cffi>=1.12->cryptography>=2.6.1->ccxt) (2.20)\n",
      "Requirement already satisfied: idna<3,>=2.5 in c:\\users\\oscar\\anaconda3\\envs\\master\\lib\\site-packages (from requests>=2.18.4->ccxt) (2.10)\n",
      "Requirement already satisfied: urllib3<1.27,>=1.21.1 in c:\\users\\oscar\\anaconda3\\envs\\master\\lib\\site-packages (from requests>=2.18.4->ccxt) (1.26.6)\n",
      "Requirement already satisfied: chardet<5,>=3.0.2 in c:\\users\\oscar\\anaconda3\\envs\\master\\lib\\site-packages (from requests>=2.18.4->ccxt) (4.0.0)\n",
      "Installing collected packages: frozenlist, pycares, charset-normalizer, async-timeout, aiosignal, setuptools, aiohttp, aiodns, ccxt\n",
      "  Attempting uninstall: setuptools\n",
      "    Found existing installation: setuptools 58.0.4\n",
      "    Uninstalling setuptools-58.0.4:\n",
      "      Successfully uninstalled setuptools-58.0.4\n",
      "Successfully installed aiodns-3.0.0 aiohttp-3.8.3 aiosignal-1.3.1 async-timeout-4.0.2 ccxt-2.2.84 charset-normalizer-2.1.1 frozenlist-1.3.3 pycares-4.2.2 setuptools-65.6.3\n"
     ]
    }
   ],
   "source": []
  },
  {
   "cell_type": "code",
   "execution_count": null,
   "metadata": {},
   "outputs": [],
   "source": []
  }
 ],
 "metadata": {
  "kernelspec": {
   "display_name": "Python 3.8.11 ('master')",
   "language": "python",
   "name": "python3"
  },
  "language_info": {
   "codemirror_mode": {
    "name": "ipython",
    "version": 3
   },
   "file_extension": ".py",
   "mimetype": "text/x-python",
   "name": "python",
   "nbconvert_exporter": "python",
   "pygments_lexer": "ipython3",
   "version": "3.8.11"
  },
  "orig_nbformat": 4,
  "vscode": {
   "interpreter": {
    "hash": "1916c2951b7d8dd2fcd4da114e9e1cb618c233012d48d93c3e66f00335cabeb4"
   }
  }
 },
 "nbformat": 4,
 "nbformat_minor": 2
}
