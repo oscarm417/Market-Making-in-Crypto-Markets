{
 "cells": [
  {
   "cell_type": "code",
   "execution_count": 77,
   "metadata": {},
   "outputs": [],
   "source": [
    "import pandas as pd \n",
    "import numpy as np \n",
    "import statsmodels.api as sm \n",
    "from statsmodels.regression.linear_model import OLS \n",
    "import matplotlib.pyplot as plt \n",
    "import order_book_calculations as obc \n",
    "df = pd.read_excel('order_book_data.xlsx')"
   ]
  },
  {
   "cell_type": "markdown",
   "metadata": {},
   "source": [
    "# OrderFlow imbalance (OFI)<br>\n",
    "## These measures determine the supply and demand on the orderbook<br>\n",
    "-  OFI: Measures the orders that were executed\n",
    "\n",
    "_____\n",
    "Rama Cont, Arseniy Kukanov and Sasha Stoikov\n",
    "March 2011\n",
    "*  Our study reveals a linear\n",
    "relation between order flow imbalance\n",
    "* a slope inversely proportional\n",
    "to the market depth\n",
    "* There is ample evidence that limit orders play an important role in determining price dy\u0002namics. \n",
    "* OFI represents net order flow at the bid and ask and track changes in teh size of the bid ask queues by \n",
    "    * increasing every thime the bid size increases, the ask size decreases, or the bid/ask price increases \n",
    "    * decreases every thime the bids size decreases, the ask size increases, or the bid/ask prices decrease \n",
    "    * intraday seasonality \n",
    "    * Given: \n",
    "        * PB_(n-1) = bid price \n",
    "        * qB_(n-1) = bid volume \n",
    "        * PA_(n-1) = ask price \n",
    "        * qA_(n-1) = ask volume \n",
    "    where:\n",
    "        * Demand Increase : PB_(n) > PB_(n-1) or qB_(n) > qB_(n-1)  bid_price increased or bid volume increase\n",
    "        * Demand Decrease : PB_(n) < PB_(n-1) or qB_(n) < qB_(n-1)  bid_price decreased or bid volume decreasd\n",
    "        * Supply Increase: PA_(n) < PA_(n-1) or qA_(n) > qA_(n-1)   ask_price decreased or ask volume increased\n",
    "        * Supply Decrease: PA_(n) > PA_(n-1) or qA_(n) < qA_(n-1)   ask_price increased or ask volume decreased \n",
    "\n",
    "    * e_n = contribution of the n-th event to the size of the bid and ask queues: \n",
    "        * given by : \n",
    "            * I{PB_(n) > PB_(n-1)}qB_(n) - I{PB_(n) < PB_(n-1)}qB_(n-1) - I{PA_(n) < PA_(n-1)}qA_(n) + I{PA_(n) > PA_(n-1)}qA_(n-1)\n",
    "    * OFI_(k) = Sigma_Sum(en), where en is the sum over the interval k, where interval k is the distance of [t_(k-1), t_(k)]\n",
    "    * Mid Price changes:\n",
    "        * given by:\n",
    "            * Delta P_(k)  = (P_(k) - P_(k-1))/S\n",
    "            * where:\n",
    "                * S = tick size \n",
    "                * P_(K) = mid-quote pirce at time t_(k)\n",
    "\n"
   ]
  },
  {
   "cell_type": "markdown",
   "metadata": {},
   "source": [
    "# OrderFlow:"
   ]
  },
  {
   "cell_type": "code",
   "execution_count": 78,
   "metadata": {},
   "outputs": [
    {
     "name": "stderr",
     "output_type": "stream",
     "text": [
      "c:\\Users\\oscar\\anaconda3\\envs\\master\\lib\\site-packages\\pandas\\core\\indexing.py:1732: SettingWithCopyWarning: \n",
      "A value is trying to be set on a copy of a slice from a DataFrame\n",
      "\n",
      "See the caveats in the documentation: https://pandas.pydata.org/pandas-docs/stable/user_guide/indexing.html#returning-a-view-versus-a-copy\n",
      "  self._setitem_single_block(indexer, value, name)\n"
     ]
    }
   ],
   "source": [
    "ob_analysis = obc.OBanalysis()\n",
    "df = ob_analysis.ofi(df)\n",
    "df.dropna(inplace = True)"
   ]
  },
  {
   "cell_type": "code",
   "execution_count": 83,
   "metadata": {},
   "outputs": [
    {
     "name": "stdout",
     "output_type": "stream",
     "text": [
      "                 Results: Ordinary least squares\n",
      "=================================================================\n",
      "Model:              OLS              Adj. R-squared:     -0.001  \n",
      "Dependent Variable: mid-price-change AIC:                443.1392\n",
      "Date:               2022-12-11 14:09 BIC:                449.0926\n",
      "No. Observations:   145              Log-Likelihood:     -219.57 \n",
      "Df Model:           1                F-statistic:        0.8135  \n",
      "Df Residuals:       143              Prob (F-statistic): 0.369   \n",
      "R-squared:          0.006            Scale:              1.2270  \n",
      "-------------------------------------------------------------------\n",
      "            Coef.    Std.Err.      t      P>|t|     [0.025   0.975]\n",
      "-------------------------------------------------------------------\n",
      "const      -0.1734     0.2156   -0.8045   0.4224   -0.5996   0.2527\n",
      "OFI         0.1072     0.1188    0.9019   0.3686   -0.1277   0.3421\n",
      "-----------------------------------------------------------------\n",
      "Omnibus:              11.315       Durbin-Watson:          3.161 \n",
      "Prob(Omnibus):        0.003        Jarque-Bera (JB):       27.546\n",
      "Skew:                 0.140        Prob(JB):               0.000 \n",
      "Kurtosis:             5.117        Condition No.:          5     \n",
      "=================================================================\n",
      "\n"
     ]
    },
    {
     "data": {
      "image/png": "[encoded data removed]",
      "text/plain": [
       "<Figure size 864x720 with 1 Axes>"
      ]
     },
     "metadata": {
      "needs_background": "light"
     },
     "output_type": "display_data"
    }
   ],
   "source": [
    "ob_analysis.plot_ofi_and_ols_summary(x)"
   ]
  },
  {
   "cell_type": "code",
   "execution_count": null,
   "metadata": {},
   "outputs": [],
   "source": []
  },
  {
   "cell_type": "code",
   "execution_count": null,
   "metadata": {},
   "outputs": [],
   "source": []
  },
  {
   "cell_type": "code",
   "execution_count": null,
   "metadata": {},
   "outputs": [],
   "source": []
  },
  {
   "cell_type": "code",
   "execution_count": null,
   "metadata": {},
   "outputs": [],
   "source": []
  },
  {
   "cell_type": "code",
   "execution_count": null,
   "metadata": {},
   "outputs": [],
   "source": []
  }
 ],
 "metadata": {
  "kernelspec": {
   "display_name": "Python 3.8.11 ('master')",
   "language": "python",
   "name": "python3"
  },
  "language_info": {
   "codemirror_mode": {
    "name": "ipython",
    "version": 3
   },
   "file_extension": ".py",
   "mimetype": "text/x-python",
   "name": "python",
   "nbconvert_exporter": "python",
   "pygments_lexer": "ipython3",
   "version": "3.8.11"
  },
  "orig_nbformat": 4,
  "vscode": {
   "interpreter": {
    "hash": "1916c2951b7d8dd2fcd4da114e9e1cb618c233012d48d93c3e66f00335cabeb4"
   }
  }
 },
 "nbformat": 4,
 "nbformat_minor": 2
}
