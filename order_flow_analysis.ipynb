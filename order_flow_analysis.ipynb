{
 "cells": [
  {
   "cell_type": "code",
   "execution_count": 1,
   "metadata": {},
   "outputs": [],
   "source": [
    "import pandas as pd \n",
    "import numpy as np \n",
    "import statsmodels.api as sm \n",
    "from statsmodels.regression.linear_model import OLS \n",
    "# import matplotlib.pyplot as plt \n",
    "\n",
    "df = pd.read_csv(\"IVE_tickbidask.txt\", header = None, names = ['date','time','price','bid','ask','volume'])[:100]\n",
    "#required data: time, bid, bid size, ask, ask size"
   ]
  },
  {
   "cell_type": "code",
   "execution_count": null,
   "metadata": {},
   "outputs": [],
   "source": []
  },
  {
   "cell_type": "code",
   "execution_count": 2,
   "metadata": {},
   "outputs": [],
   "source": [
    "def format_data(df: pd.DataFrame)->pd.DataFrame:\n",
    "    df['datetime'] = df[['date','time']].apply(lambda x: ' '.join(x),axis = 1)\n",
    "    df['datetime'] = pd.to_datetime(df['datetime'],infer_datetime_format = True )\n",
    "    df = df[['datetime','price','bid','ask','volume']]\n",
    "    return df"
   ]
  },
  {
   "cell_type": "code",
   "execution_count": 3,
   "metadata": {},
   "outputs": [],
   "source": [
    "df = format_data(df)"
   ]
  },
  {
   "cell_type": "markdown",
   "metadata": {},
   "source": [
    "# OrderFlow imbalance (OFI) vs Trade Flow Imbalance (TFI)<br>\n",
    "## These measures determine the supply and demand on the orderbook<br>\n",
    "-  OFI: Measures the orders that were executed\n",
    "- TFI: Measures any changes on the order book<br>\n"
   ]
  },
  {
   "cell_type": "markdown",
   "metadata": {},
   "source": [
    "# OrderFlow:"
   ]
  },
  {
   "cell_type": "code",
   "execution_count": 4,
   "metadata": {},
   "outputs": [],
   "source": [
    "def ofi(df:pd.DataFrame)-> pd.DataFrame:\n",
    "    df['mid-price-change'] = ((df['bid'] - df['ask'])/2).diff().div(0.1)\n",
    "    df['prev-bid'] = df['bid'].shift()\n",
    "    df['prev-bid-size'] = df['bid-size'].shift()\n",
    "    df['prev-ask'] = df['ask'].shift()\n",
    "    df['prev-ask-size'] = df['ask-size'].shift()\n",
    "    df.dropna(inplace =True)\n",
    "\n",
    "    bid_geq = df['bid'] >= df['prev-bid']\n",
    "    bid_leq = df['bid'] <= df['prev-bid']\n",
    "    ask_geq = df['ask'] >= df['prev-ask']\n",
    "    ask_leq = df['ask'] <= df['prev-ask']\n",
    "\n",
    "    df['OFI'] = pd.Series(np.zeros(len(df)))\n",
    "    df['OFI'].loc[bid_geq] += df['bid-size'].loc[bid_geq]\n",
    "    df['OFI'].loc[bid_leq] += df['prev-bid-size'].loc[bid_leq]\n",
    "    df['OFI'].loc[ask_geq] += df['prev-ask-size'].loc[ask_geq]\n",
    "    df['OFI'].loc[ask_leq] += df['ask-size'].loc[ask_leq]\n",
    "\n",
    "    df = df[['mid-price change','OFI']].resample().sum().dropna() \n",
    "    return df\n"
   ]
  },
  {
   "cell_type": "code",
   "execution_count": null,
   "metadata": {},
   "outputs": [],
   "source": [
    "def plot_ofi_and_ols_summary(df: pd.DataFrame)->pd.DataFrame:\n",
    "    df.plot(kind='scatter', grid=True, \n",
    "            x='OFI', y='Mid-Price Change', \n",
    "            title = 'OFI'\n",
    "            alpha=0.5, figsize=(12,10))\n",
    "    ofi_ = sm.add_constant(df['OFI'])\n",
    "    ols = OLS(df['mid-price-change'], ofi_).fit()\n",
    "    print(ols.summary2())"
   ]
  },
  {
   "cell_type": "code",
   "execution_count": null,
   "metadata": {},
   "outputs": [],
   "source": []
  },
  {
   "cell_type": "code",
   "execution_count": null,
   "metadata": {},
   "outputs": [],
   "source": []
  },
  {
   "cell_type": "code",
   "execution_count": null,
   "metadata": {},
   "outputs": [],
   "source": []
  },
  {
   "cell_type": "code",
   "execution_count": null,
   "metadata": {},
   "outputs": [],
   "source": []
  }
 ],
 "metadata": {
  "kernelspec": {
   "display_name": "Python 3.8.11 ('master')",
   "language": "python",
   "name": "python3"
  },
  "language_info": {
   "codemirror_mode": {
    "name": "ipython",
    "version": 3
   },
   "file_extension": ".py",
   "mimetype": "text/x-python",
   "name": "python",
   "nbconvert_exporter": "python",
   "pygments_lexer": "ipython3",
   "version": "3.8.11"
  },
  "orig_nbformat": 4,
  "vscode": {
   "interpreter": {
    "hash": "1916c2951b7d8dd2fcd4da114e9e1cb618c233012d48d93c3e66f00335cabeb4"
   }
  }
 },
 "nbformat": 4,
 "nbformat_minor": 2
}
